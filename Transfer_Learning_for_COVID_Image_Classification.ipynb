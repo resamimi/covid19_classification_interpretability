{
  "nbformat": 4,
  "nbformat_minor": 0,
  "metadata": {
    "colab": {
      "name": "Transfer Learning for COVID Image Classification.ipynb",
      "provenance": [],
      "collapsed_sections": []
    },
    "kernelspec": {
      "name": "python3",
      "display_name": "Python 3"
    },
    "accelerator": "GPU"
  },
  "cells": [
    {
      "cell_type": "code",
      "metadata": {
        "id": "7Bix0_-JAr2G"
      },
      "source": [
        "import tensorflow as tf\n",
        "from keras.preprocessing.image import ImageDataGenerator\n",
        "from keras.applications.inception_v3 import InceptionV3, preprocess_input\n",
        "from keras.layers import Dense, Activation, Flatten, Dropout\n",
        "from keras.models import Sequential, Model\n",
        "from keras.optimizers import SGD, Adam\n",
        "from keras.callbacks import ModelCheckpoint\n",
        "from keras import backend as K\n",
        "from sklearn.metrics import classification_report\n",
        "from sklearn.metrics import confusion_matrix\n",
        "import matplotlib.pyplot as plt\n",
        "#import pandas as pd\n",
        "import argparse\n",
        "import os\n",
        "import shutil\n",
        "from pprint import pprint\n",
        "import numpy as np"
      ],
      "execution_count": 4,
      "outputs": []
    },
    {
      "cell_type": "code",
      "metadata": {
        "colab": {
          "base_uri": "https://localhost:8080/"
        },
        "id": "SgjiLIKLXFn1",
        "outputId": "0e8d7deb-0fbc-406b-e04a-4ac1275ca69a"
      },
      "source": [
        "from google.colab import drive\n",
        "drive.mount('/content/drive')"
      ],
      "execution_count": 1,
      "outputs": [
        {
          "output_type": "stream",
          "text": [
            "Mounted at /content/drive\n"
          ],
          "name": "stdout"
        }
      ]
    },
    {
      "cell_type": "code",
      "metadata": {
        "id": "02WRLSJNCl46"
      },
      "source": [
        "doTraining = True\n",
        "HEIGHT = 300\n",
        "WIDTH = 300\n",
        "BATCH_SIZE = 32\n",
        "NUM_EPOCHS = 10\n",
        "TRAIN_VAL_DIR = '/content/drive/MyDrive/UniPassau/multimedia_retrieval/covid19_classification/data/COVID-19_Radiography_Dataset'\n",
        "TEST_DIR = '/content/drive/MyDrive/UniPassau/multimedia_retrieval/covid19_classification/data/test'"
      ],
      "execution_count": 2,
      "outputs": []
    },
    {
      "cell_type": "code",
      "metadata": {
        "colab": {
          "base_uri": "https://localhost:8080/"
        },
        "id": "byOAHaeWbnO4",
        "outputId": "c3ac8709-49d4-4eeb-d6c6-28c44cec1645"
      },
      "source": [
        "classCnt = 0\n",
        "imgPerClass = {}\n",
        "for root, dirs, _ in os.walk(TRAIN_VAL_DIR):\n",
        "    for name in dirs:\n",
        "        print (os.path.join(root, name))\n",
        "\n",
        "iterInputDir = iter(os.walk(TRAIN_VAL_DIR))\n",
        "next(iterInputDir)\n",
        "for (dirpath, dirnames, filenames) in iterInputDir:\n",
        "    print('class folder {} has {} images'.format(os.path.basename(dirpath), len(filenames)))\n",
        "    imgPerClass[classCnt] = len(filenames)\n",
        "    classCnt += 1\n",
        "\n",
        "if not os.path.exists(TEST_DIR):\n",
        "    os.makedirs(TEST_DIR)\n",
        "\n",
        "    for (dirpath, dirnames, filenames) in iterInputDir:\n",
        "        # print('--------------- at iteration {}, dirpath {}: -----------------'.format(cnt, dirpath))\n",
        "        filenames.sort()\n",
        "        testClassPath = '{}/{}'.format(TEST_DIR, os.path.basename(dirpath))\n",
        "        os.makedirs(testClassPath)\n",
        "        for i in range(len(filenames)//10): \n",
        "            origImgPath = '{}/{}'.format(dirpath, filenames[i])\n",
        "            testImgPath = '{}/{}'.format(testClassPath, filenames[i])\n",
        "            shutil.move(origImgPath, testImgPath)\n",
        "    \n",
        "classWeights = {} \n",
        "largestClass = max(imgPerClass, key=imgPerClass.get)\n",
        "for classKey, classValue in imgPerClass.items():\n",
        "    classWeights[classKey] = imgPerClass[largestClass] / classValue"
      ],
      "execution_count": 14,
      "outputs": [
        {
          "output_type": "stream",
          "text": [
            "/content/drive/MyDrive/UniPassau/multimedia_retrieval/covid19_classification/data/COVID-19_Radiography_Dataset/COVID\n",
            "/content/drive/MyDrive/UniPassau/multimedia_retrieval/covid19_classification/data/COVID-19_Radiography_Dataset/Normal\n",
            "/content/drive/MyDrive/UniPassau/multimedia_retrieval/covid19_classification/data/COVID-19_Radiography_Dataset/Viral Pneumonia\n",
            "class folder COVID has 3616 images\n",
            "class folder Normal has 10192 images\n",
            "class folder Viral Pneumonia has 1345 images\n"
          ],
          "name": "stdout"
        }
      ]
    },
    {
      "cell_type": "code",
      "metadata": {
        "colab": {
          "base_uri": "https://localhost:8080/"
        },
        "id": "ByfMGkKdBwIr",
        "outputId": "df9fe5fa-1240-4568-8a6c-23793d4a4444"
      },
      "source": [
        "train_valid_datagen = ImageDataGenerator(#rescale=1./255,\n",
        "                                        #  shear_range = 0.2,\n",
        "                                        #  zoom_range = 0.2,\n",
        "                                        #  horizontal_flip=True,\n",
        "                                        #  preprocessing_function= preprocess_input,\n",
        "                                        validation_split=0.1,\n",
        "                                        preprocessing_function=tf.keras.applications.inception_v3.preprocess_input)\n",
        "\n",
        "train_generator = train_valid_datagen.flow_from_directory(TRAIN_VAL_DIR,\n",
        "                                                        subset=\"training\",\n",
        "                                                        batch_size=BATCH_SIZE,\n",
        "                                                        seed=42,\n",
        "                                                        shuffle=True,\n",
        "                                                        class_mode=\"categorical\",\n",
        "                                                        target_size=(HEIGHT,WIDTH))\n",
        "\n",
        "valid_generator = train_valid_datagen.flow_from_directory(TRAIN_VAL_DIR,\n",
        "                                                        subset=\"validation\",\n",
        "                                                        batch_size=BATCH_SIZE,\n",
        "                                                        seed=42,\n",
        "                                                        shuffle=True,\n",
        "                                                        class_mode=\"categorical\",\n",
        "                                                        target_size=(HEIGHT,WIDTH))\n",
        "\n",
        "label_map = (train_generator.class_indices)\n",
        "print(label_map)"
      ],
      "execution_count": 6,
      "outputs": [
        {
          "output_type": "stream",
          "text": [
            "Found 13639 images belonging to 3 classes.\n",
            "Found 1514 images belonging to 3 classes.\n",
            "{'COVID': 0, 'Normal': 1, 'Viral Pneumonia': 2}\n"
          ],
          "name": "stdout"
        }
      ]
    },
    {
      "cell_type": "code",
      "metadata": {
        "id": "4FZ3UIueBUlM"
      },
      "source": [
        "def build_finetune_model(base_model, dropout, fc_layers, num_classes):\n",
        "    \n",
        "    for layer in base_model.layers:\n",
        "        layer.trainable = False\n",
        "\n",
        "    x = base_model.output\n",
        "    x = Flatten()(x)\n",
        "    for fc in fc_layers:\n",
        "        # New FC layer, random init\n",
        "        x = Dense(fc, activation='relu')(x) \n",
        "        x = Dropout(dropout)(x)\n",
        "\n",
        "    # New softmax layer\n",
        "    predictions = Dense(num_classes, activation='softmax')(x) \n",
        "    \n",
        "    finetune_model = Model(inputs=base_model.input, outputs=predictions)\n",
        "\n",
        "    return finetune_model"
      ],
      "execution_count": 8,
      "outputs": []
    },
    {
      "cell_type": "code",
      "metadata": {
        "id": "mSfdtxrzKT2-",
        "colab": {
          "base_uri": "https://localhost:8080/"
        },
        "outputId": "cdbeacad-a7e9-4451-8de2-5ec3d76ef5be"
      },
      "source": [
        "base_model = InceptionV3(weights='imagenet', include_top=False, input_shape=(HEIGHT, WIDTH, 3))\n",
        "\n",
        "_, classNames, _ = next(os.walk(TRAIN_VAL_DIR))\n",
        "FC_LAYERS = [1024, 1024]\n",
        "dropout = 0.5\n",
        "\n",
        "finetune_model = build_finetune_model(base_model, dropout=dropout, fc_layers=FC_LAYERS, num_classes=len(classNames))\n",
        "\n",
        "adam = Adam(lr=0.00001)\n",
        "finetune_model.compile(adam, loss='categorical_crossentropy', metrics=['accuracy'])\n",
        "\n",
        "model_dir = '/content/drive/MyDrive/UniPassau/multimedia_retrieval/covid19_classification/model/'\n",
        "checkpoint = ModelCheckpoint(model_dir+\"save_at_{epoch}.h5\", save_best_only=True, monitor='val_loss', mode='min')\n",
        "callbacks_list = [checkpoint]\n",
        "\n",
        "STEP_SIZE_TRAIN=train_generator.n//train_generator.batch_size\n",
        "STEP_SIZE_VALID=valid_generator.n//valid_generator.batch_size\n",
        "\n",
        "if (doTraining == True):\n",
        "    finetune_model.fit(x=train_generator,\n",
        "                      steps_per_epoch=STEP_SIZE_TRAIN,\n",
        "                      validation_data=valid_generator,\n",
        "                      validation_steps=STEP_SIZE_VALID,\n",
        "                      callbacks=callbacks_list,\n",
        "                       #shuffle=False,\n",
        "                      class_weight=classWeights,\n",
        "                      epochs=NUM_EPOCHS)\n",
        "    # history =finetune_model.fit_generator(generator=train_generator,\n",
        "    #                                     steps_per_epoch=STEP_SIZE_TRAIN,\n",
        "    #                                     validation_data=valid_generator,\n",
        "    #                                     validation_steps=STEP_SIZE_VALID,\n",
        "    #                                     callbacks=callbacks_list,\n",
        "    #                                     epochs=NUM_EPOCHS, \n",
        "    #                                     shuffle=False,\n",
        "    #                                     class_weight=classWeights)\n",
        "    #finetune_model.evaluate(generator=valid_generator, steps=STEP_SIZE_VALID)\n",
        "    finetune_model.evaluate_generator(generator=valid_generator, steps=STEP_SIZE_VALID)\n",
        "#     finetune_model.save('/content/drive/MyDrive/UniPassau/multimedia_retrieval/animal_classfier')\n",
        "# else:\n",
        "#     finetune_model.keras.models.load_model('/content/drive/MyDrive/UniPassau/multimedia_retrieval/animal_classfier')"
      ],
      "execution_count": 9,
      "outputs": [
        {
          "output_type": "stream",
          "text": [
            "Downloading data from https://storage.googleapis.com/tensorflow/keras-applications/inception_v3/inception_v3_weights_tf_dim_ordering_tf_kernels_notop.h5\n",
            "87916544/87910968 [==============================] - 1s 0us/step\n",
            "Epoch 1/10\n",
            "426/426 [==============================] - 5613s 13s/step - loss: 1.2923 - accuracy: 0.7119 - val_loss: 0.2586 - val_accuracy: 0.9129\n",
            "Epoch 2/10\n",
            "426/426 [==============================] - 101s 236ms/step - loss: 0.4369 - accuracy: 0.8905 - val_loss: 0.3873 - val_accuracy: 0.8471\n",
            "Epoch 3/10\n",
            "426/426 [==============================] - 88s 206ms/step - loss: 0.3260 - accuracy: 0.9162 - val_loss: 0.3256 - val_accuracy: 0.8903\n",
            "Epoch 4/10\n",
            "426/426 [==============================] - 87s 204ms/step - loss: 0.2515 - accuracy: 0.9397 - val_loss: 0.2155 - val_accuracy: 0.9309\n",
            "Epoch 5/10\n",
            "426/426 [==============================] - 92s 217ms/step - loss: 0.1935 - accuracy: 0.9515 - val_loss: 0.1977 - val_accuracy: 0.9315\n",
            "Epoch 6/10\n",
            "426/426 [==============================] - 95s 224ms/step - loss: 0.1466 - accuracy: 0.9650 - val_loss: 0.2175 - val_accuracy: 0.9348\n",
            "Epoch 7/10\n",
            "426/426 [==============================] - 88s 207ms/step - loss: 0.1108 - accuracy: 0.9729 - val_loss: 0.2037 - val_accuracy: 0.9368\n",
            "Epoch 8/10\n",
            "426/426 [==============================] - 88s 207ms/step - loss: 0.1028 - accuracy: 0.9740 - val_loss: 0.1754 - val_accuracy: 0.9495\n",
            "Epoch 9/10\n",
            "426/426 [==============================] - 94s 219ms/step - loss: 0.0833 - accuracy: 0.9817 - val_loss: 0.2053 - val_accuracy: 0.9375\n",
            "Epoch 10/10\n",
            "426/426 [==============================] - 87s 205ms/step - loss: 0.0852 - accuracy: 0.9802 - val_loss: 0.1657 - val_accuracy: 0.9515\n"
          ],
          "name": "stdout"
        },
        {
          "output_type": "stream",
          "text": [
            "/usr/local/lib/python3.7/dist-packages/tensorflow/python/keras/engine/training.py:1877: UserWarning: `Model.evaluate_generator` is deprecated and will be removed in a future version. Please use `Model.evaluate`, which supports generators.\n",
            "  warnings.warn('`Model.evaluate_generator` is deprecated and '\n"
          ],
          "name": "stderr"
        }
      ]
    },
    {
      "cell_type": "code",
      "metadata": {
        "colab": {
          "base_uri": "https://localhost:8080/"
        },
        "id": "dsjqZnx7nv93",
        "outputId": "2239ce7f-ac5c-4574-d946-f94d9b23cf3c"
      },
      "source": [
        "finetune_model.evaluate_generator(generator=valid_generator, steps=STEP_SIZE_VALID)"
      ],
      "execution_count": 10,
      "outputs": [
        {
          "output_type": "stream",
          "text": [
            "/usr/local/lib/python3.7/dist-packages/tensorflow/python/keras/engine/training.py:1877: UserWarning: `Model.evaluate_generator` is deprecated and will be removed in a future version. Please use `Model.evaluate`, which supports generators.\n",
            "  warnings.warn('`Model.evaluate_generator` is deprecated and '\n"
          ],
          "name": "stderr"
        },
        {
          "output_type": "execute_result",
          "data": {
            "text/plain": [
              "[0.16561603546142578, 0.9514627456665039]"
            ]
          },
          "metadata": {
            "tags": []
          },
          "execution_count": 10
        }
      ]
    }
  ]
}